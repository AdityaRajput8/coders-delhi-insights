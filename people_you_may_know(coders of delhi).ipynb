{
 "cells": [
  {
   "cell_type": "code",
   "execution_count": 11,
   "id": "0fa43950-29b7-4834-a0f8-44f6abd832a7",
   "metadata": {},
   "outputs": [
    {
     "name": "stdout",
     "output_type": "stream",
     "text": [
      "[8, 9, 11, 16, 20, 17, 21, 2, 3, 6, 10, 18, 25]\n"
     ]
    }
   ],
   "source": [
    "import json\n",
    "\n",
    "def load_data(filename):\n",
    "    with open(filename, \"r\") as f:\n",
    "        return json.load(f)\n",
    "\n",
    "def find_people_you_may_know(user_id, data):\n",
    "   \n",
    "    user_friends = {user['id']: set(user.get('friends', [])) for user in data['users']}\n",
    "\n",
    "    if user_id not in user_friends:\n",
    "        return []\n",
    "\n",
    "    direct_friends = user_friends[user_id]\n",
    "    suggestions = {}\n",
    "\n",
    "    # Look at friends of friends\n",
    "    for friend in direct_friends:\n",
    "        for mutual in user_friends.get(friend, []):\n",
    "            if mutual != user_id and mutual not in direct_friends:\n",
    "                # Count mutual friend connections\n",
    "                suggestions[mutual] = suggestions.get(mutual, 0) + 1\n",
    "\n",
    "    \n",
    "    sorted_suggestions = sorted(suggestions.items(), key=lambda x: x[1], reverse=True)\n",
    "    \n",
    "    return [uid for uid, mutual_count in sorted_suggestions]\n",
    "\n",
    "# Loading the data\n",
    "data = load_data(\"massive_data.json\")\n",
    "user_id = 13\n",
    "recc = find_people_you_may_know(user_id, data)\n",
    "print(recc)\n"
   ]
  },
  {
   "cell_type": "code",
   "execution_count": null,
   "id": "a1d089d4-00c9-4419-9f3a-17a4f39d8c05",
   "metadata": {},
   "outputs": [],
   "source": []
  }
 ],
 "metadata": {
  "kernelspec": {
   "display_name": "Python [conda env:base] *",
   "language": "python",
   "name": "conda-base-py"
  },
  "language_info": {
   "codemirror_mode": {
    "name": "ipython",
    "version": 3
   },
   "file_extension": ".py",
   "mimetype": "text/x-python",
   "name": "python",
   "nbconvert_exporter": "python",
   "pygments_lexer": "ipython3",
   "version": "3.13.5"
  }
 },
 "nbformat": 4,
 "nbformat_minor": 5
}
